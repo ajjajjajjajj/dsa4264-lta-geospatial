{
 "cells": [
  {
   "cell_type": "markdown",
   "metadata": {},
   "source": [
    "# LTA DataMall API\n",
    "ALl data obtained from API, except MRT Station location data, which has to be downloaded manually from the portal"
   ]
  },
  {
   "cell_type": "code",
   "execution_count": 2,
   "metadata": {},
   "outputs": [],
   "source": [
    "import os\n",
    "import requests\n",
    "import json\n",
    "\n",
    "url = \"https://datamall2.mytransport.sg/ltaodataservice/\"\n",
    "\n",
    "paths = {\n",
    "    \"Geospatial Whole Island\": \"GeospatialWholeIsland\",\n",
    "    \"Bus Stops\": \"BusStops\",\n",
    "    \"Bus Routes\": \"BusRoutes\",\n",
    "}\n",
    "\n",
    "headers = {\"AccountKey\": os.environ.get(\"LTA_API_KEY\"), \"accept\": \"application/json\"}\n",
    "\n",
    "\n",
    "def get_url(path):\n",
    "    return url + paths[path]\n",
    "\n",
    "def download_data(path: str, params=None):\n",
    "    response = requests.get(get_url(path), headers=headers, params=params)\n",
    "    if response.status_code != 200:\n",
    "        raise Exception(f\"Failed to download data: {response.status_code}\")\n",
    "    \n",
    "    with open(f\"{path.replace(' ', '')}.json\", \"w\") as f:\n",
    "        json.dump(response.json(), f) \n",
    "    return\n"
   ]
  },
  {
   "cell_type": "code",
   "execution_count": null,
   "metadata": {},
   "outputs": [],
   "source": [
    "# returns a link to the data\n",
    "download_data(\"Geospatial Whole Island\", params={\"ID\": \"BusStopLocation\"})"
   ]
  },
  {
   "cell_type": "code",
   "execution_count": null,
   "metadata": {},
   "outputs": [],
   "source": [
    "download_data(\"Bus Stops\")\n",
    "download_data(\"Bus Routes\")"
   ]
  },
  {
   "cell_type": "markdown",
   "metadata": {},
   "source": [
    "### Train station Geospatial Data\n",
    "Train station **exit** data is available from data.gov.sg"
   ]
  },
  {
   "cell_type": "code",
   "execution_count": 18,
   "metadata": {},
   "outputs": [],
   "source": [
    "# train station exit data, from data.gov.sg\n",
    "datasetId = \"d_b39d3a0871985372d7e1637193335da5\"\n",
    "url = \"https://api-open.data.gov.sg/v1/public/api/datasets/\" + datasetId + \"/poll-download\"\n",
    "        \n",
    "response = requests.get(url)\n",
    "json_data = response.json()\n",
    "if json_data['code'] != 0:\n",
    "    print(json_data['errMsg'])\n",
    "    exit(1)\n",
    "\n",
    "url = json_data['data']['url']\n",
    "response = requests.get(url)\n",
    "\n",
    "with open(\"TrainStationExits.geojson\", \"w\") as f:\n",
    "    json.dump(response.json(), f)"
   ]
  },
  {
   "cell_type": "code",
   "execution_count": 3,
   "metadata": {},
   "outputs": [],
   "source": [
    "datasetId = \"d_4765db0e87b9c86336792efe8a1f7a66\"\n",
    "url = \"https://api-open.data.gov.sg/v1/public/api/datasets/\" + datasetId + \"/poll-download\"\n",
    "        \n",
    "response = requests.get(url)\n",
    "json_data = response.json()\n",
    "if json_data['code'] != 0:\n",
    "    print(json_data['errMsg'])\n",
    "    exit(1)\n",
    "\n",
    "url = json_data['data']['url']\n",
    "response = requests.get(url)\n",
    "\n",
    "with open(\"MasterPlan2019PlanningAreaBoundary.geojson\", \"w\") as f:\n",
    "    json.dump(response.json(), f)"
   ]
  },
  {
   "cell_type": "code",
   "execution_count": 7,
   "metadata": {},
   "outputs": [],
   "source": [
    "# rail lines from data.gov.sg\n",
    "\n",
    "datasetId = \"d_e8bf3cff62f97300817d1fdcce382584\"\n",
    "url = \"https://api-open.data.gov.sg/v1/public/api/datasets/\" + datasetId + \"/poll-download\"\n",
    "        \n",
    "response = requests.get(url)\n",
    "json_data = response.json()\n",
    "if json_data['code'] != 0:\n",
    "    print(json_data['errMsg'])\n",
    "    exit(1)\n",
    "\n",
    "url = json_data['data']['url']\n",
    "response = requests.get(url)\n",
    "\n",
    "with open(\"MasterPlan2019RailLineLayer.geojson\", \"w\") as f:\n",
    "    json.dump(response.json(), f)"
   ]
  },
  {
   "cell_type": "code",
   "execution_count": 8,
   "metadata": {},
   "outputs": [],
   "source": [
    "# rail stations from data.gov.sg\n",
    "\n",
    "datasetId = \"d_9a6bdc9d93bd041eb0cfbb6a8cb3248f\"\n",
    "url = \"https://api-open.data.gov.sg/v1/public/api/datasets/\" + datasetId + \"/poll-download\"\n",
    "        \n",
    "response = requests.get(url)\n",
    "json_data = response.json()\n",
    "if json_data['code'] != 0:\n",
    "    print(json_data['errMsg'])\n",
    "    exit(1)\n",
    "\n",
    "url = json_data['data']['url']\n",
    "response = requests.get(url)\n",
    "\n",
    "with open(\"MasterPlan2019RailStationLayer.geojson\", \"w\") as f:\n",
    "    json.dump(response.json(), f)"
   ]
  },
  {
   "cell_type": "code",
   "execution_count": null,
   "metadata": {},
   "outputs": [],
   "source": []
  }
 ],
 "metadata": {
  "kernelspec": {
   "display_name": "4264-proj",
   "language": "python",
   "name": "python3"
  },
  "language_info": {
   "codemirror_mode": {
    "name": "ipython",
    "version": 3
   },
   "file_extension": ".py",
   "mimetype": "text/x-python",
   "name": "python",
   "nbconvert_exporter": "python",
   "pygments_lexer": "ipython3",
   "version": "3.11.10"
  }
 },
 "nbformat": 4,
 "nbformat_minor": 2
}
