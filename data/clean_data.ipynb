{
 "cells": [
  {
   "cell_type": "code",
   "execution_count": 2,
   "metadata": {},
   "outputs": [],
   "source": [
    "import geopandas as gpd\n",
    "import folium\n",
    "import pandas as pd\n",
    "import matplotlib.pyplot as plt\n",
    "import re"
   ]
  },
  {
   "cell_type": "markdown",
   "metadata": {},
   "source": [
    "### Clean Planning Area"
   ]
  },
  {
   "cell_type": "code",
   "execution_count": null,
   "metadata": {},
   "outputs": [
    {
     "data": {
      "text/html": [
       "<div>\n",
       "<style scoped>\n",
       "    .dataframe tbody tr th:only-of-type {\n",
       "        vertical-align: middle;\n",
       "    }\n",
       "\n",
       "    .dataframe tbody tr th {\n",
       "        vertical-align: top;\n",
       "    }\n",
       "\n",
       "    .dataframe thead th {\n",
       "        text-align: right;\n",
       "    }\n",
       "</style>\n",
       "<table border=\"1\" class=\"dataframe\">\n",
       "  <thead>\n",
       "    <tr style=\"text-align: right;\">\n",
       "      <th></th>\n",
       "      <th>Name</th>\n",
       "      <th>Description</th>\n",
       "      <th>geometry</th>\n",
       "    </tr>\n",
       "  </thead>\n",
       "  <tbody>\n",
       "    <tr>\n",
       "      <th>0</th>\n",
       "      <td>kml_1</td>\n",
       "      <td>&lt;center&gt;&lt;table&gt;&lt;tr&gt;&lt;th colspan='2' align='cent...</td>\n",
       "      <td>POLYGON Z ((103.93208 1.30555 0, 103.93208 1.3...</td>\n",
       "    </tr>\n",
       "    <tr>\n",
       "      <th>1</th>\n",
       "      <td>kml_2</td>\n",
       "      <td>&lt;center&gt;&lt;table&gt;&lt;tr&gt;&lt;th colspan='2' align='cent...</td>\n",
       "      <td>POLYGON Z ((103.72042 1.32824 0, 103.72003 1.3...</td>\n",
       "    </tr>\n",
       "    <tr>\n",
       "      <th>2</th>\n",
       "      <td>kml_3</td>\n",
       "      <td>&lt;center&gt;&lt;table&gt;&lt;tr&gt;&lt;th colspan='2' align='cent...</td>\n",
       "      <td>POLYGON Z ((103.76408 1.37001 0, 103.76444 1.3...</td>\n",
       "    </tr>\n",
       "    <tr>\n",
       "      <th>3</th>\n",
       "      <td>kml_4</td>\n",
       "      <td>&lt;center&gt;&lt;table&gt;&lt;tr&gt;&lt;th colspan='2' align='cent...</td>\n",
       "      <td>POLYGON Z ((103.82361 1.26018 0, 103.82362 1.2...</td>\n",
       "    </tr>\n",
       "    <tr>\n",
       "      <th>4</th>\n",
       "      <td>kml_5</td>\n",
       "      <td>&lt;center&gt;&lt;table&gt;&lt;tr&gt;&lt;th colspan='2' align='cent...</td>\n",
       "      <td>POLYGON Z ((103.77445 1.39029 0, 103.77499 1.3...</td>\n",
       "    </tr>\n",
       "  </tbody>\n",
       "</table>\n",
       "</div>"
      ],
      "text/plain": [
       "    Name                                        Description  \\\n",
       "0  kml_1  <center><table><tr><th colspan='2' align='cent...   \n",
       "1  kml_2  <center><table><tr><th colspan='2' align='cent...   \n",
       "2  kml_3  <center><table><tr><th colspan='2' align='cent...   \n",
       "3  kml_4  <center><table><tr><th colspan='2' align='cent...   \n",
       "4  kml_5  <center><table><tr><th colspan='2' align='cent...   \n",
       "\n",
       "                                            geometry  \n",
       "0  POLYGON Z ((103.93208 1.30555 0, 103.93208 1.3...  \n",
       "1  POLYGON Z ((103.72042 1.32824 0, 103.72003 1.3...  \n",
       "2  POLYGON Z ((103.76408 1.37001 0, 103.76444 1.3...  \n",
       "3  POLYGON Z ((103.82361 1.26018 0, 103.82362 1.2...  \n",
       "4  POLYGON Z ((103.77445 1.39029 0, 103.77499 1.3...  "
      ]
     },
     "execution_count": 3,
     "metadata": {},
     "output_type": "execute_result"
    }
   ],
   "source": [
    "PlanningArea: gpd.GeoDataFrame = gpd.read_file('raw/MasterPlan2019PlanningAreaBoundary.geojson')\n",
    "PlanningArea.head()"
   ]
  },
  {
   "cell_type": "code",
   "execution_count": 5,
   "metadata": {},
   "outputs": [
    {
     "data": {
      "text/plain": [
       "{'Region': 'BEDOK', 'Planning Area': 'EAST REGION'}"
      ]
     },
     "execution_count": 5,
     "metadata": {},
     "output_type": "execute_result"
    }
   ],
   "source": [
    "# def extract_fri\n",
    "html = PlanningArea[\"Description\"][0]\n",
    "def extract_region_and_planning_area(html: str) -> (str, str):\n",
    "    values = re.findall(r\"<td>(.*?)</td>\", html)\n",
    "\n",
    "    return {\n",
    "        \"Region\": values[0],\n",
    "        \"Planning Area\": values[3]\n",
    "    }\n",
    "\n",
    "extract_region_and_planning_area(html)"
   ]
  },
  {
   "cell_type": "code",
   "execution_count": 6,
   "metadata": {},
   "outputs": [
    {
     "data": {
      "text/html": [
       "<div>\n",
       "<style scoped>\n",
       "    .dataframe tbody tr th:only-of-type {\n",
       "        vertical-align: middle;\n",
       "    }\n",
       "\n",
       "    .dataframe tbody tr th {\n",
       "        vertical-align: top;\n",
       "    }\n",
       "\n",
       "    .dataframe thead th {\n",
       "        text-align: right;\n",
       "    }\n",
       "</style>\n",
       "<table border=\"1\" class=\"dataframe\">\n",
       "  <thead>\n",
       "    <tr style=\"text-align: right;\">\n",
       "      <th></th>\n",
       "      <th>Name</th>\n",
       "      <th>Description</th>\n",
       "      <th>geometry</th>\n",
       "      <th>Region</th>\n",
       "      <th>Planning Area</th>\n",
       "    </tr>\n",
       "  </thead>\n",
       "  <tbody>\n",
       "    <tr>\n",
       "      <th>0</th>\n",
       "      <td>kml_1</td>\n",
       "      <td>&lt;center&gt;&lt;table&gt;&lt;tr&gt;&lt;th colspan='2' align='cent...</td>\n",
       "      <td>POLYGON Z ((103.93208 1.30555 0, 103.93208 1.3...</td>\n",
       "      <td>BEDOK</td>\n",
       "      <td>EAST REGION</td>\n",
       "    </tr>\n",
       "    <tr>\n",
       "      <th>1</th>\n",
       "      <td>kml_2</td>\n",
       "      <td>&lt;center&gt;&lt;table&gt;&lt;tr&gt;&lt;th colspan='2' align='cent...</td>\n",
       "      <td>POLYGON Z ((103.72042 1.32824 0, 103.72003 1.3...</td>\n",
       "      <td>BOON LAY</td>\n",
       "      <td>WEST REGION</td>\n",
       "    </tr>\n",
       "    <tr>\n",
       "      <th>2</th>\n",
       "      <td>kml_3</td>\n",
       "      <td>&lt;center&gt;&lt;table&gt;&lt;tr&gt;&lt;th colspan='2' align='cent...</td>\n",
       "      <td>POLYGON Z ((103.76408 1.37001 0, 103.76444 1.3...</td>\n",
       "      <td>BUKIT BATOK</td>\n",
       "      <td>WEST REGION</td>\n",
       "    </tr>\n",
       "    <tr>\n",
       "      <th>3</th>\n",
       "      <td>kml_4</td>\n",
       "      <td>&lt;center&gt;&lt;table&gt;&lt;tr&gt;&lt;th colspan='2' align='cent...</td>\n",
       "      <td>POLYGON Z ((103.82361 1.26018 0, 103.82362 1.2...</td>\n",
       "      <td>BUKIT MERAH</td>\n",
       "      <td>CENTRAL REGION</td>\n",
       "    </tr>\n",
       "    <tr>\n",
       "      <th>4</th>\n",
       "      <td>kml_5</td>\n",
       "      <td>&lt;center&gt;&lt;table&gt;&lt;tr&gt;&lt;th colspan='2' align='cent...</td>\n",
       "      <td>POLYGON Z ((103.77445 1.39029 0, 103.77499 1.3...</td>\n",
       "      <td>BUKIT PANJANG</td>\n",
       "      <td>WEST REGION</td>\n",
       "    </tr>\n",
       "  </tbody>\n",
       "</table>\n",
       "</div>"
      ],
      "text/plain": [
       "    Name                                        Description  \\\n",
       "0  kml_1  <center><table><tr><th colspan='2' align='cent...   \n",
       "1  kml_2  <center><table><tr><th colspan='2' align='cent...   \n",
       "2  kml_3  <center><table><tr><th colspan='2' align='cent...   \n",
       "3  kml_4  <center><table><tr><th colspan='2' align='cent...   \n",
       "4  kml_5  <center><table><tr><th colspan='2' align='cent...   \n",
       "\n",
       "                                            geometry         Region  \\\n",
       "0  POLYGON Z ((103.93208 1.30555 0, 103.93208 1.3...          BEDOK   \n",
       "1  POLYGON Z ((103.72042 1.32824 0, 103.72003 1.3...       BOON LAY   \n",
       "2  POLYGON Z ((103.76408 1.37001 0, 103.76444 1.3...    BUKIT BATOK   \n",
       "3  POLYGON Z ((103.82361 1.26018 0, 103.82362 1.2...    BUKIT MERAH   \n",
       "4  POLYGON Z ((103.77445 1.39029 0, 103.77499 1.3...  BUKIT PANJANG   \n",
       "\n",
       "    Planning Area  \n",
       "0     EAST REGION  \n",
       "1     WEST REGION  \n",
       "2     WEST REGION  \n",
       "3  CENTRAL REGION  \n",
       "4     WEST REGION  "
      ]
     },
     "execution_count": 6,
     "metadata": {},
     "output_type": "execute_result"
    }
   ],
   "source": [
    "PlanningArea[\"Region\"] = PlanningArea[\"Description\"].apply(lambda x: extract_region_and_planning_area(x)[\"Region\"])\n",
    "PlanningArea[\"Planning Area\"] = PlanningArea[\"Description\"].apply(lambda x: extract_region_and_planning_area(x)[\"Planning Area\"])\n",
    "PlanningArea.head()"
   ]
  },
  {
   "cell_type": "code",
   "execution_count": 7,
   "metadata": {},
   "outputs": [],
   "source": [
    "PlanningArea.to_file('cleaned/PlanningArea.geojson', driver='GeoJSON')"
   ]
  },
  {
   "cell_type": "markdown",
   "metadata": {},
   "source": [
    "### Clean BusStops"
   ]
  },
  {
   "cell_type": "code",
   "execution_count": 9,
   "metadata": {},
   "outputs": [
    {
     "data": {
      "text/html": [
       "<div>\n",
       "<style scoped>\n",
       "    .dataframe tbody tr th:only-of-type {\n",
       "        vertical-align: middle;\n",
       "    }\n",
       "\n",
       "    .dataframe tbody tr th {\n",
       "        vertical-align: top;\n",
       "    }\n",
       "\n",
       "    .dataframe thead th {\n",
       "        text-align: right;\n",
       "    }\n",
       "</style>\n",
       "<table border=\"1\" class=\"dataframe\">\n",
       "  <thead>\n",
       "    <tr style=\"text-align: right;\">\n",
       "      <th></th>\n",
       "      <th>BUS_STOP_N</th>\n",
       "      <th>BUS_ROOF_N</th>\n",
       "      <th>LOC_DESC</th>\n",
       "      <th>geometry</th>\n",
       "    </tr>\n",
       "  </thead>\n",
       "  <tbody>\n",
       "    <tr>\n",
       "      <th>0</th>\n",
       "      <td>65059</td>\n",
       "      <td>B12</td>\n",
       "      <td>ST ANNE'S CH</td>\n",
       "      <td>POINT (103.9013 1.39303)</td>\n",
       "    </tr>\n",
       "    <tr>\n",
       "      <th>1</th>\n",
       "      <td>16171</td>\n",
       "      <td>B06</td>\n",
       "      <td>YUSOF ISHAK HSE</td>\n",
       "      <td>POINT (103.77437 1.29892)</td>\n",
       "    </tr>\n",
       "    <tr>\n",
       "      <th>2</th>\n",
       "      <td>61101</td>\n",
       "      <td>NIL</td>\n",
       "      <td>BLK 120</td>\n",
       "      <td>POINT (103.8637 1.33564)</td>\n",
       "    </tr>\n",
       "    <tr>\n",
       "      <th>3</th>\n",
       "      <td>01239</td>\n",
       "      <td>B01</td>\n",
       "      <td>SULTAN PLAZA</td>\n",
       "      <td>POINT (103.86165 1.30285)</td>\n",
       "    </tr>\n",
       "    <tr>\n",
       "      <th>4</th>\n",
       "      <td>17269</td>\n",
       "      <td>B01</td>\n",
       "      <td>BLK 730</td>\n",
       "      <td>POINT (103.76264 1.30492)</td>\n",
       "    </tr>\n",
       "  </tbody>\n",
       "</table>\n",
       "</div>"
      ],
      "text/plain": [
       "  BUS_STOP_N BUS_ROOF_N         LOC_DESC                   geometry\n",
       "0      65059        B12     ST ANNE'S CH   POINT (103.9013 1.39303)\n",
       "1      16171        B06  YUSOF ISHAK HSE  POINT (103.77437 1.29892)\n",
       "2      61101        NIL          BLK 120   POINT (103.8637 1.33564)\n",
       "3      01239        B01     SULTAN PLAZA  POINT (103.86165 1.30285)\n",
       "4      17269        B01          BLK 730  POINT (103.76264 1.30492)"
      ]
     },
     "execution_count": 9,
     "metadata": {},
     "output_type": "execute_result"
    }
   ],
   "source": [
    "# Load the shapefile into a GeoDataFrame\n",
    "BusStops: gpd.GeoDataFrame = gpd.read_file('raw/BusStopLocation_Jul2024/BusStop.shp')\n",
    "\n",
    "# Ensure the GeoDataFrame is in the correct CRS (coordinate reference system)\n",
    "# The .prj file indicates that the data is in SVY21, which is EPSG:3414\n",
    "BusStops: gpd.GeoDataFrame = BusStops.to_crs(epsg=4326)  # Convert to WGS 84 (EPSG:4326) for Folium\n",
    "BusStops.head()"
   ]
  },
  {
   "cell_type": "code",
   "execution_count": 10,
   "metadata": {},
   "outputs": [],
   "source": [
    "BusStops.to_file('cleaned/BusStops.geojson', driver='GeoJSON')"
   ]
  },
  {
   "cell_type": "markdown",
   "metadata": {},
   "source": [
    "### Clean RailStations and RailLines"
   ]
  },
  {
   "cell_type": "markdown",
   "metadata": {},
   "source": [
    "Commented out below was using the mrt station data from LTA itself, which had many issues. Use the URA data from data.gov instead"
   ]
  },
  {
   "cell_type": "code",
   "execution_count": 121,
   "metadata": {},
   "outputs": [],
   "source": [
    "# def fix_invalid_geometries(gdf):\n",
    "#     gdf['geometry'] = gdf['geometry'].apply(lambda geom: geom.buffer(0) if not geom.is_valid else geom)\n",
    "#     return gdf\n",
    "\n",
    "# import pyogrio\n",
    "\n",
    "# # dataset has a problem and this solves it\n",
    "# pyogrio.set_gdal_config_options({\"OGR_GEOMETRY_ACCEPT_UNCLOSED_RING\": \"OFF\"})\n",
    "\n",
    "# Stations: gpd.GeoDataFrame = gpd.read_file('../data/TrainStation_Jul2024/RapidTransitSystemStation.shp')\n",
    "# Stations = fix_invalid_geometries(Stations)\n",
    "# Stations.to_crs(epsg=4326, inplace=True)\n",
    "\n",
    "# # getting the area of the stations reveals that some a unusaly big\n",
    "# Stations['area'] = Stations['geometry'].to_crs(epsg=3857).area\n",
    "\n",
    "# # get the fake stations\n",
    "# Stations[\"is_mrt_or_lrt\"] = Stations['STN_NAM_DE'].str.contains(r\"MRT STATION|LRT STATION\", regex=True, case=False, na=False)\n",
    "# Stations.where(Stations[\"is_mrt_or_lrt\"] == False).dropna(subset=[\"is_mrt_or_lrt\"])[[\"STN_NAM_DE\", \"area\"]]\n",
    "\n",
    "# Stations = Stations.where(Stations[\"is_mrt_or_lrt\"] == True).dropna(subset=[\"is_mrt_or_lrt\"])"
   ]
  },
  {
   "cell_type": "code",
   "execution_count": 6,
   "metadata": {},
   "outputs": [
    {
     "data": {
      "text/html": [
       "<div>\n",
       "<style scoped>\n",
       "    .dataframe tbody tr th:only-of-type {\n",
       "        vertical-align: middle;\n",
       "    }\n",
       "\n",
       "    .dataframe tbody tr th {\n",
       "        vertical-align: top;\n",
       "    }\n",
       "\n",
       "    .dataframe thead th {\n",
       "        text-align: right;\n",
       "    }\n",
       "</style>\n",
       "<table border=\"1\" class=\"dataframe\">\n",
       "  <thead>\n",
       "    <tr style=\"text-align: right;\">\n",
       "      <th></th>\n",
       "      <th>Name</th>\n",
       "      <th>Description</th>\n",
       "      <th>geometry</th>\n",
       "    </tr>\n",
       "  </thead>\n",
       "  <tbody>\n",
       "    <tr>\n",
       "      <th>0</th>\n",
       "      <td>kml_1</td>\n",
       "      <td>&lt;center&gt;&lt;table&gt;&lt;tr&gt;&lt;th colspan='2' align='cent...</td>\n",
       "      <td>POLYGON Z ((103.84988 1.36925 0, 103.84976 1.3...</td>\n",
       "    </tr>\n",
       "    <tr>\n",
       "      <th>1</th>\n",
       "      <td>kml_2</td>\n",
       "      <td>&lt;center&gt;&lt;table&gt;&lt;tr&gt;&lt;th colspan='2' align='cent...</td>\n",
       "      <td>POLYGON Z ((103.89304 1.38166 0, 103.89283 1.3...</td>\n",
       "    </tr>\n",
       "    <tr>\n",
       "      <th>2</th>\n",
       "      <td>kml_3</td>\n",
       "      <td>&lt;center&gt;&lt;table&gt;&lt;tr&gt;&lt;th colspan='2' align='cent...</td>\n",
       "      <td>POLYGON Z ((103.90538 1.38786 0, 103.90529 1.3...</td>\n",
       "    </tr>\n",
       "    <tr>\n",
       "      <th>3</th>\n",
       "      <td>kml_4</td>\n",
       "      <td>&lt;center&gt;&lt;table&gt;&lt;tr&gt;&lt;th colspan='2' align='cent...</td>\n",
       "      <td>POLYGON Z ((103.916 1.39444 0, 103.91634 1.394...</td>\n",
       "    </tr>\n",
       "    <tr>\n",
       "      <th>4</th>\n",
       "      <td>kml_5</td>\n",
       "      <td>&lt;center&gt;&lt;table&gt;&lt;tr&gt;&lt;th colspan='2' align='cent...</td>\n",
       "      <td>POLYGON Z ((103.8765 1.39148 0, 103.87648 1.39...</td>\n",
       "    </tr>\n",
       "  </tbody>\n",
       "</table>\n",
       "</div>"
      ],
      "text/plain": [
       "    Name                                        Description  \\\n",
       "0  kml_1  <center><table><tr><th colspan='2' align='cent...   \n",
       "1  kml_2  <center><table><tr><th colspan='2' align='cent...   \n",
       "2  kml_3  <center><table><tr><th colspan='2' align='cent...   \n",
       "3  kml_4  <center><table><tr><th colspan='2' align='cent...   \n",
       "4  kml_5  <center><table><tr><th colspan='2' align='cent...   \n",
       "\n",
       "                                            geometry  \n",
       "0  POLYGON Z ((103.84988 1.36925 0, 103.84976 1.3...  \n",
       "1  POLYGON Z ((103.89304 1.38166 0, 103.89283 1.3...  \n",
       "2  POLYGON Z ((103.90538 1.38786 0, 103.90529 1.3...  \n",
       "3  POLYGON Z ((103.916 1.39444 0, 103.91634 1.394...  \n",
       "4  POLYGON Z ((103.8765 1.39148 0, 103.87648 1.39...  "
      ]
     },
     "execution_count": 6,
     "metadata": {},
     "output_type": "execute_result"
    }
   ],
   "source": [
    "RailStations = gpd.read_file('raw/MasterPlan2019RailStationLayer.geojson')\n",
    "RailStations.head()"
   ]
  },
  {
   "cell_type": "code",
   "execution_count": 7,
   "metadata": {},
   "outputs": [
    {
     "data": {
      "text/html": [
       "<div>\n",
       "<style scoped>\n",
       "    .dataframe tbody tr th:only-of-type {\n",
       "        vertical-align: middle;\n",
       "    }\n",
       "\n",
       "    .dataframe tbody tr th {\n",
       "        vertical-align: top;\n",
       "    }\n",
       "\n",
       "    .dataframe thead th {\n",
       "        text-align: right;\n",
       "    }\n",
       "</style>\n",
       "<table border=\"1\" class=\"dataframe\">\n",
       "  <thead>\n",
       "    <tr style=\"text-align: right;\">\n",
       "      <th></th>\n",
       "      <th>Name</th>\n",
       "      <th>Description</th>\n",
       "      <th>geometry</th>\n",
       "    </tr>\n",
       "  </thead>\n",
       "  <tbody>\n",
       "    <tr>\n",
       "      <th>0</th>\n",
       "      <td>kml_1</td>\n",
       "      <td>&lt;center&gt;&lt;table&gt;&lt;tr&gt;&lt;th colspan='2' align='cent...</td>\n",
       "      <td>LINESTRING Z (103.7365 1.35301 0, 103.73649 1....</td>\n",
       "    </tr>\n",
       "    <tr>\n",
       "      <th>1</th>\n",
       "      <td>kml_2</td>\n",
       "      <td>&lt;center&gt;&lt;table&gt;&lt;tr&gt;&lt;th colspan='2' align='cent...</td>\n",
       "      <td>LINESTRING Z (103.73708 1.35164 0, 103.73768 1...</td>\n",
       "    </tr>\n",
       "    <tr>\n",
       "      <th>2</th>\n",
       "      <td>kml_3</td>\n",
       "      <td>&lt;center&gt;&lt;table&gt;&lt;tr&gt;&lt;th colspan='2' align='cent...</td>\n",
       "      <td>LINESTRING Z (103.71328 1.35252 0, 103.71327 1...</td>\n",
       "    </tr>\n",
       "    <tr>\n",
       "      <th>3</th>\n",
       "      <td>kml_4</td>\n",
       "      <td>&lt;center&gt;&lt;table&gt;&lt;tr&gt;&lt;th colspan='2' align='cent...</td>\n",
       "      <td>LINESTRING Z (103.7132 1.35265 0, 103.71318 1....</td>\n",
       "    </tr>\n",
       "    <tr>\n",
       "      <th>4</th>\n",
       "      <td>kml_5</td>\n",
       "      <td>&lt;center&gt;&lt;table&gt;&lt;tr&gt;&lt;th colspan='2' align='cent...</td>\n",
       "      <td>LINESTRING Z (103.70767 1.34888 0, 103.70767 1...</td>\n",
       "    </tr>\n",
       "  </tbody>\n",
       "</table>\n",
       "</div>"
      ],
      "text/plain": [
       "    Name                                        Description  \\\n",
       "0  kml_1  <center><table><tr><th colspan='2' align='cent...   \n",
       "1  kml_2  <center><table><tr><th colspan='2' align='cent...   \n",
       "2  kml_3  <center><table><tr><th colspan='2' align='cent...   \n",
       "3  kml_4  <center><table><tr><th colspan='2' align='cent...   \n",
       "4  kml_5  <center><table><tr><th colspan='2' align='cent...   \n",
       "\n",
       "                                            geometry  \n",
       "0  LINESTRING Z (103.7365 1.35301 0, 103.73649 1....  \n",
       "1  LINESTRING Z (103.73708 1.35164 0, 103.73768 1...  \n",
       "2  LINESTRING Z (103.71328 1.35252 0, 103.71327 1...  \n",
       "3  LINESTRING Z (103.7132 1.35265 0, 103.71318 1....  \n",
       "4  LINESTRING Z (103.70767 1.34888 0, 103.70767 1...  "
      ]
     },
     "execution_count": 7,
     "metadata": {},
     "output_type": "execute_result"
    }
   ],
   "source": [
    "RailLines = gpd.read_file('raw/MasterPlan2019RailLineLayer.geojson')\n",
    "RailLines.head()"
   ]
  },
  {
   "cell_type": "code",
   "execution_count": 20,
   "metadata": {},
   "outputs": [
    {
     "data": {
      "text/plain": [
       "{'StationType': 'MRT', 'StationName': 'ANG MO KIO INTERCHANGE'}"
      ]
     },
     "execution_count": 20,
     "metadata": {},
     "output_type": "execute_result"
    }
   ],
   "source": [
    "import re\n",
    "\n",
    "html = RailStations['Description'][0]\n",
    "# todo: extract info from description\n",
    "def extract_data_from_description_stations(description: str):\n",
    "\n",
    "    values = re.findall(r\"<td>(.*?)</td>\", description)\n",
    "    \n",
    "    return {\n",
    "        \"StationType\": values[1],\n",
    "        \"StationName\": values[2],\n",
    "    }\n",
    "\n",
    "extract_data_from_description_stations(html)"
   ]
  },
  {
   "cell_type": "code",
   "execution_count": 21,
   "metadata": {},
   "outputs": [],
   "source": [
    "RailStations_new = RailStations.apply(lambda x: pd.Series(extract_data_from_description_stations(x['Description'])), axis=1)\n",
    "RailStations = pd.concat([RailStations, RailStations_new], axis=1) "
   ]
  },
  {
   "cell_type": "code",
   "execution_count": 22,
   "metadata": {},
   "outputs": [],
   "source": [
    "RailStations.to_file('cleaned/RailStations.geojson', driver='GeoJSON')"
   ]
  },
  {
   "cell_type": "code",
   "execution_count": 25,
   "metadata": {},
   "outputs": [],
   "source": [
    "def extract_grd_level_and_rail_type(description: str):\n",
    "    values = re.findall(r\"<td>(.*?)</td>\", description)\n",
    "    \n",
    "    return {\n",
    "        \"GroundLevel\": values[0],\n",
    "        \"RailType\": values[1],\n",
    "    }"
   ]
  },
  {
   "cell_type": "code",
   "execution_count": 26,
   "metadata": {},
   "outputs": [
    {
     "data": {
      "text/html": [
       "<div>\n",
       "<style scoped>\n",
       "    .dataframe tbody tr th:only-of-type {\n",
       "        vertical-align: middle;\n",
       "    }\n",
       "\n",
       "    .dataframe tbody tr th {\n",
       "        vertical-align: top;\n",
       "    }\n",
       "\n",
       "    .dataframe thead th {\n",
       "        text-align: right;\n",
       "    }\n",
       "</style>\n",
       "<table border=\"1\" class=\"dataframe\">\n",
       "  <thead>\n",
       "    <tr style=\"text-align: right;\">\n",
       "      <th></th>\n",
       "      <th>Name</th>\n",
       "      <th>Description</th>\n",
       "      <th>geometry</th>\n",
       "      <th>GroundLevel</th>\n",
       "      <th>RailType</th>\n",
       "    </tr>\n",
       "  </thead>\n",
       "  <tbody>\n",
       "    <tr>\n",
       "      <th>0</th>\n",
       "      <td>kml_1</td>\n",
       "      <td>&lt;center&gt;&lt;table&gt;&lt;tr&gt;&lt;th colspan='2' align='cent...</td>\n",
       "      <td>LINESTRING Z (103.7365 1.35301 0, 103.73649 1....</td>\n",
       "      <td>ABOVEGROUND</td>\n",
       "      <td>MRT</td>\n",
       "    </tr>\n",
       "    <tr>\n",
       "      <th>1</th>\n",
       "      <td>kml_2</td>\n",
       "      <td>&lt;center&gt;&lt;table&gt;&lt;tr&gt;&lt;th colspan='2' align='cent...</td>\n",
       "      <td>LINESTRING Z (103.73708 1.35164 0, 103.73768 1...</td>\n",
       "      <td>ABOVEGROUND</td>\n",
       "      <td>MRT</td>\n",
       "    </tr>\n",
       "    <tr>\n",
       "      <th>2</th>\n",
       "      <td>kml_3</td>\n",
       "      <td>&lt;center&gt;&lt;table&gt;&lt;tr&gt;&lt;th colspan='2' align='cent...</td>\n",
       "      <td>LINESTRING Z (103.71328 1.35252 0, 103.71327 1...</td>\n",
       "      <td>ABOVEGROUND</td>\n",
       "      <td>MRT</td>\n",
       "    </tr>\n",
       "    <tr>\n",
       "      <th>3</th>\n",
       "      <td>kml_4</td>\n",
       "      <td>&lt;center&gt;&lt;table&gt;&lt;tr&gt;&lt;th colspan='2' align='cent...</td>\n",
       "      <td>LINESTRING Z (103.7132 1.35265 0, 103.71318 1....</td>\n",
       "      <td>ABOVEGROUND</td>\n",
       "      <td>MRT</td>\n",
       "    </tr>\n",
       "    <tr>\n",
       "      <th>4</th>\n",
       "      <td>kml_5</td>\n",
       "      <td>&lt;center&gt;&lt;table&gt;&lt;tr&gt;&lt;th colspan='2' align='cent...</td>\n",
       "      <td>LINESTRING Z (103.70767 1.34888 0, 103.70767 1...</td>\n",
       "      <td>ABOVEGROUND</td>\n",
       "      <td>MRT</td>\n",
       "    </tr>\n",
       "  </tbody>\n",
       "</table>\n",
       "</div>"
      ],
      "text/plain": [
       "    Name                                        Description  \\\n",
       "0  kml_1  <center><table><tr><th colspan='2' align='cent...   \n",
       "1  kml_2  <center><table><tr><th colspan='2' align='cent...   \n",
       "2  kml_3  <center><table><tr><th colspan='2' align='cent...   \n",
       "3  kml_4  <center><table><tr><th colspan='2' align='cent...   \n",
       "4  kml_5  <center><table><tr><th colspan='2' align='cent...   \n",
       "\n",
       "                                            geometry  GroundLevel RailType  \n",
       "0  LINESTRING Z (103.7365 1.35301 0, 103.73649 1....  ABOVEGROUND      MRT  \n",
       "1  LINESTRING Z (103.73708 1.35164 0, 103.73768 1...  ABOVEGROUND      MRT  \n",
       "2  LINESTRING Z (103.71328 1.35252 0, 103.71327 1...  ABOVEGROUND      MRT  \n",
       "3  LINESTRING Z (103.7132 1.35265 0, 103.71318 1....  ABOVEGROUND      MRT  \n",
       "4  LINESTRING Z (103.70767 1.34888 0, 103.70767 1...  ABOVEGROUND      MRT  "
      ]
     },
     "execution_count": 26,
     "metadata": {},
     "output_type": "execute_result"
    }
   ],
   "source": [
    "RailLines_new = RailLines.apply(lambda x: pd.Series(extract_grd_level_and_rail_type(x['Description'])), axis=1)\n",
    "RailLines = pd.concat([RailLines, RailLines_new], axis=1)\n",
    "RailLines.head()"
   ]
  },
  {
   "cell_type": "code",
   "execution_count": 27,
   "metadata": {},
   "outputs": [],
   "source": [
    "RailLines.to_file('cleaned/RailLines.geojson', driver='GeoJSON')"
   ]
  },
  {
   "cell_type": "code",
   "execution_count": null,
   "metadata": {},
   "outputs": [],
   "source": [
    "# def get_train_service_lines(stn_no):\n",
    "#     mapping = {\n",
    "#         'NS': 'North-South',\n",
    "#         'EW': 'East-West',\n",
    "#         'CG': 'East-West',\n",
    "#         'NE': 'North-East',\n",
    "#         'CC': 'Circle',\n",
    "#         'CE': 'Circle',\n",
    "#         'DT': 'Downtown',\n",
    "#         'TE': 'Thomson East Coast',\n",
    "#         'BP': 'Bukit Panjang LRT',\n",
    "#         'ST': 'Sengkang LRT', # STC is Sengkang LRT\n",
    "#         'SE': 'Sengkang LRT',\n",
    "#         'SW': 'Sengkang LRT',\n",
    "#         'PW': 'Punggol LRT',\n",
    "#         'PE': 'Punggol LRT',\n",
    "#         'PT': 'Punggol LRT',  # PTC is Punggol LRT\n",
    "#     }\n",
    "#     line = mapping.get(stn_no[:2], 'Unknown')\n",
    "#     if line == \"Unknown\":\n",
    "#         print(f\"Unknown train service line for station number: {stn_no}\")\n",
    "#     return line\n",
    "\n",
    "# Stations['STN_LINE'] = Stations['STN_NO'].map(get_train_service_lines)\n",
    "# Stations.head()"
   ]
  },
  {
   "cell_type": "markdown",
   "metadata": {},
   "source": [
    "### Clean BusRoutes"
   ]
  },
  {
   "cell_type": "code",
   "execution_count": 5,
   "metadata": {},
   "outputs": [],
   "source": [
    "BusRoutes = pd.read_json('raw/BusRoutes.json')\n",
    "BusRoutes.head()\n",
    "BusRoutes.to_json('cleaned/BusRoutes.json', orient='records', lines=True)"
   ]
  }
 ],
 "metadata": {
  "kernelspec": {
   "display_name": "4264-proj",
   "language": "python",
   "name": "python3"
  },
  "language_info": {
   "codemirror_mode": {
    "name": "ipython",
    "version": 3
   },
   "file_extension": ".py",
   "mimetype": "text/x-python",
   "name": "python",
   "nbconvert_exporter": "python",
   "pygments_lexer": "ipython3",
   "version": "3.11.10"
  }
 },
 "nbformat": 4,
 "nbformat_minor": 2
}
