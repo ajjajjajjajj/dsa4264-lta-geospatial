{
 "cells": [
  {
   "cell_type": "code",
   "execution_count": 2,
   "metadata": {},
   "outputs": [],
   "source": [
    "import pandas as pd"
   ]
  },
  {
   "cell_type": "code",
   "execution_count": 4,
   "metadata": {},
   "outputs": [],
   "source": [
    "fnames = [\n",
    "    #\"raw/origin_destination_bus_202408.csv\",\n",
    "    \"raw/transport_node_bus_202407.csv\",\n",
    "    \"raw/transport_node_bus_202408.csv\",\n",
    "    \"raw/transport_node_bus_202409.csv\",\n",
    "]"
   ]
  },
  {
   "cell_type": "markdown",
   "metadata": {},
   "source": [
    "# Bus data"
   ]
  },
  {
   "cell_type": "code",
   "execution_count": 5,
   "metadata": {},
   "outputs": [
    {
     "name": "stdout",
     "output_type": "stream",
     "text": [
      "(598518, 7)\n"
     ]
    },
    {
     "data": {
      "text/html": [
       "<div>\n",
       "<style scoped>\n",
       "    .dataframe tbody tr th:only-of-type {\n",
       "        vertical-align: middle;\n",
       "    }\n",
       "\n",
       "    .dataframe tbody tr th {\n",
       "        vertical-align: top;\n",
       "    }\n",
       "\n",
       "    .dataframe thead th {\n",
       "        text-align: right;\n",
       "    }\n",
       "</style>\n",
       "<table border=\"1\" class=\"dataframe\">\n",
       "  <thead>\n",
       "    <tr style=\"text-align: right;\">\n",
       "      <th></th>\n",
       "      <th>YEAR_MONTH</th>\n",
       "      <th>DAY_TYPE</th>\n",
       "      <th>TIME_PER_HOUR</th>\n",
       "      <th>PT_TYPE</th>\n",
       "      <th>PT_CODE</th>\n",
       "      <th>TOTAL_TAP_IN_VOLUME</th>\n",
       "      <th>TOTAL_TAP_OUT_VOLUME</th>\n",
       "    </tr>\n",
       "  </thead>\n",
       "  <tbody>\n",
       "    <tr>\n",
       "      <th>0</th>\n",
       "      <td>2024-07</td>\n",
       "      <td>WEEKDAY</td>\n",
       "      <td>19.0</td>\n",
       "      <td>BUS</td>\n",
       "      <td>46359</td>\n",
       "      <td>279</td>\n",
       "      <td>138</td>\n",
       "    </tr>\n",
       "    <tr>\n",
       "      <th>1</th>\n",
       "      <td>2024-07</td>\n",
       "      <td>WEEKDAY</td>\n",
       "      <td>6.0</td>\n",
       "      <td>BUS</td>\n",
       "      <td>64551</td>\n",
       "      <td>570</td>\n",
       "      <td>26</td>\n",
       "    </tr>\n",
       "    <tr>\n",
       "      <th>2</th>\n",
       "      <td>2024-07</td>\n",
       "      <td>WEEKDAY</td>\n",
       "      <td>9.0</td>\n",
       "      <td>BUS</td>\n",
       "      <td>92099</td>\n",
       "      <td>2009</td>\n",
       "      <td>866</td>\n",
       "    </tr>\n",
       "    <tr>\n",
       "      <th>3</th>\n",
       "      <td>2024-07</td>\n",
       "      <td>WEEKDAY</td>\n",
       "      <td>6.0</td>\n",
       "      <td>BUS</td>\n",
       "      <td>12201</td>\n",
       "      <td>51</td>\n",
       "      <td>1405</td>\n",
       "    </tr>\n",
       "    <tr>\n",
       "      <th>4</th>\n",
       "      <td>2024-07</td>\n",
       "      <td>WEEKDAY</td>\n",
       "      <td>17.0</td>\n",
       "      <td>BUS</td>\n",
       "      <td>77101</td>\n",
       "      <td>94</td>\n",
       "      <td>110</td>\n",
       "    </tr>\n",
       "  </tbody>\n",
       "</table>\n",
       "</div>"
      ],
      "text/plain": [
       "  YEAR_MONTH DAY_TYPE  TIME_PER_HOUR PT_TYPE  PT_CODE  TOTAL_TAP_IN_VOLUME  \\\n",
       "0    2024-07  WEEKDAY           19.0     BUS    46359                  279   \n",
       "1    2024-07  WEEKDAY            6.0     BUS    64551                  570   \n",
       "2    2024-07  WEEKDAY            9.0     BUS    92099                 2009   \n",
       "3    2024-07  WEEKDAY            6.0     BUS    12201                   51   \n",
       "4    2024-07  WEEKDAY           17.0     BUS    77101                   94   \n",
       "\n",
       "   TOTAL_TAP_OUT_VOLUME  \n",
       "0                   138  \n",
       "1                    26  \n",
       "2                   866  \n",
       "3                  1405  \n",
       "4                   110  "
      ]
     },
     "execution_count": 5,
     "metadata": {},
     "output_type": "execute_result"
    }
   ],
   "source": [
    "# Load all bus node files and concatenate them into a single dataframe\n",
    "bus_node_df = pd.concat([pd.read_csv(fname) for fname in fnames], ignore_index=True)\n",
    "print(bus_node_df.shape)\n",
    "bus_node_df.head()"
   ]
  },
  {
   "cell_type": "code",
   "execution_count": 3,
   "metadata": {},
   "outputs": [
    {
     "name": "stdout",
     "output_type": "stream",
     "text": [
      "(5760081, 7)\n"
     ]
    },
    {
     "data": {
      "text/html": [
       "<div>\n",
       "<style scoped>\n",
       "    .dataframe tbody tr th:only-of-type {\n",
       "        vertical-align: middle;\n",
       "    }\n",
       "\n",
       "    .dataframe tbody tr th {\n",
       "        vertical-align: top;\n",
       "    }\n",
       "\n",
       "    .dataframe thead th {\n",
       "        text-align: right;\n",
       "    }\n",
       "</style>\n",
       "<table border=\"1\" class=\"dataframe\">\n",
       "  <thead>\n",
       "    <tr style=\"text-align: right;\">\n",
       "      <th></th>\n",
       "      <th>YEAR_MONTH</th>\n",
       "      <th>DAY_TYPE</th>\n",
       "      <th>TIME_PER_HOUR</th>\n",
       "      <th>PT_TYPE</th>\n",
       "      <th>ORIGIN_PT_CODE</th>\n",
       "      <th>DESTINATION_PT_CODE</th>\n",
       "      <th>TOTAL_TRIPS</th>\n",
       "    </tr>\n",
       "  </thead>\n",
       "  <tbody>\n",
       "    <tr>\n",
       "      <th>0</th>\n",
       "      <td>2024-08</td>\n",
       "      <td>WEEKENDS/HOLIDAY</td>\n",
       "      <td>18</td>\n",
       "      <td>BUS</td>\n",
       "      <td>76201</td>\n",
       "      <td>76079</td>\n",
       "      <td>6</td>\n",
       "    </tr>\n",
       "    <tr>\n",
       "      <th>1</th>\n",
       "      <td>2024-08</td>\n",
       "      <td>WEEKENDS/HOLIDAY</td>\n",
       "      <td>7</td>\n",
       "      <td>BUS</td>\n",
       "      <td>10351</td>\n",
       "      <td>13201</td>\n",
       "      <td>7</td>\n",
       "    </tr>\n",
       "    <tr>\n",
       "      <th>2</th>\n",
       "      <td>2024-08</td>\n",
       "      <td>WEEKENDS/HOLIDAY</td>\n",
       "      <td>19</td>\n",
       "      <td>BUS</td>\n",
       "      <td>76061</td>\n",
       "      <td>75371</td>\n",
       "      <td>1</td>\n",
       "    </tr>\n",
       "    <tr>\n",
       "      <th>3</th>\n",
       "      <td>2024-08</td>\n",
       "      <td>WEEKENDS/HOLIDAY</td>\n",
       "      <td>9</td>\n",
       "      <td>BUS</td>\n",
       "      <td>14271</td>\n",
       "      <td>7021</td>\n",
       "      <td>2</td>\n",
       "    </tr>\n",
       "    <tr>\n",
       "      <th>4</th>\n",
       "      <td>2024-08</td>\n",
       "      <td>WEEKDAY</td>\n",
       "      <td>5</td>\n",
       "      <td>BUS</td>\n",
       "      <td>54581</td>\n",
       "      <td>66471</td>\n",
       "      <td>1</td>\n",
       "    </tr>\n",
       "  </tbody>\n",
       "</table>\n",
       "</div>"
      ],
      "text/plain": [
       "  YEAR_MONTH          DAY_TYPE  TIME_PER_HOUR PT_TYPE  ORIGIN_PT_CODE  \\\n",
       "0    2024-08  WEEKENDS/HOLIDAY             18     BUS           76201   \n",
       "1    2024-08  WEEKENDS/HOLIDAY              7     BUS           10351   \n",
       "2    2024-08  WEEKENDS/HOLIDAY             19     BUS           76061   \n",
       "3    2024-08  WEEKENDS/HOLIDAY              9     BUS           14271   \n",
       "4    2024-08           WEEKDAY              5     BUS           54581   \n",
       "\n",
       "   DESTINATION_PT_CODE  TOTAL_TRIPS  \n",
       "0                76079            6  \n",
       "1                13201            7  \n",
       "2                75371            1  \n",
       "3                 7021            2  \n",
       "4                66471            1  "
      ]
     },
     "execution_count": 3,
     "metadata": {},
     "output_type": "execute_result"
    }
   ],
   "source": [
    "bus_origin_dest_df = pd.read_csv(fnames[0])\n",
    "print(bus_origin_dest_df.shape)\n",
    "bus_origin_dest_df.head()"
   ]
  },
  {
   "cell_type": "code",
   "execution_count": 6,
   "metadata": {},
   "outputs": [],
   "source": [
    "bus_node_df.to_csv('cleaned/BusRideVolume_2024_070809.csv', index=False)\n",
    "# bus_origin_dest_df.to_csv('cleaned/BusRideVolumeOrigDest202408.csv', index=False)"
   ]
  },
  {
   "cell_type": "code",
   "execution_count": null,
   "metadata": {},
   "outputs": [],
   "source": []
  }
 ],
 "metadata": {
  "kernelspec": {
   "display_name": "Python 3",
   "language": "python",
   "name": "python3"
  },
  "language_info": {
   "codemirror_mode": {
    "name": "ipython",
    "version": 3
   },
   "file_extension": ".py",
   "mimetype": "text/x-python",
   "name": "python",
   "nbconvert_exporter": "python",
   "pygments_lexer": "ipython3",
   "version": "3.11.3"
  }
 },
 "nbformat": 4,
 "nbformat_minor": 2
}
