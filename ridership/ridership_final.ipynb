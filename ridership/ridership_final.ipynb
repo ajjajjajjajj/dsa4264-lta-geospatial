{
 "cells": [
  {
   "cell_type": "markdown",
   "metadata": {},
   "source": [
    "# Finalised ridership analysis\n",
    "\n",
    "Removed analysis involving multiple directions (since we decided to only analyse 1 direction for consistency)  \n",
    "Saved some of the intermediate tables for plotting in the dashboard  \n",
    "The function `get_hour_count_below_25th_percentile_each_stop` from here is reproduced in the streamlit app code  \n"
   ]
  },
  {
   "cell_type": "code",
   "execution_count": 1,
   "metadata": {},
   "outputs": [],
   "source": [
    "import pandas as pd\n",
    "import matplotlib.pyplot as plt\n",
    "import numpy as np"
   ]
  },
  {
   "cell_type": "code",
   "execution_count": 2,
   "metadata": {},
   "outputs": [],
   "source": [
    "bus_routes = pd.read_json('../data/cleaned/BusRoutes.json', lines=True)\n",
    "# bus_ridership_quarter = pd.read_csv('../data/cleaned/BusRideVolume_2024_070809.csv', dtype={'PT_CODE': int})\n",
    "bus_routes_trips = pd.read_csv('../data/cleaned/bus_route_trips.csv')"
   ]
  },
  {
   "cell_type": "markdown",
   "metadata": {},
   "source": [
    "Below filters for trip information to obtain 1 direction only and saves the file, loaded in again 2 cells down"
   ]
  },
  {
   "cell_type": "code",
   "execution_count": 3,
   "metadata": {},
   "outputs": [],
   "source": [
    "# bus_routes_trips = bus_routes_trips[bus_routes_trips[\"Direction\"] == 1]\n",
    "# bus_routes_trips = bus_routes_trips.drop(columns=['Direction'])\n",
    "# bus_routes_trips.to_csv('../data/cleaned/bus_route_trips_single_direction.csv', index=False)"
   ]
  },
  {
   "cell_type": "markdown",
   "metadata": {},
   "source": [
    "Below saves the 3-month averages for each bus stop's ridership for each hour and the day category, next section just loads it in"
   ]
  },
  {
   "cell_type": "code",
   "execution_count": 4,
   "metadata": {},
   "outputs": [],
   "source": [
    "# bus_ridership_quarter = bus_ridership_quarter.rename(columns={\n",
    "#     'PT_CODE':'Destination_Stop'\n",
    "# })\n",
    "\n",
    "# aggregated_ridership = bus_ridership_quarter.groupby(['DAY_TYPE', 'TIME_PER_HOUR', 'PT_TYPE', 'Destination_Stop']).agg({\n",
    "#     'TOTAL_TAP_IN_VOLUME': 'mean',\n",
    "#     'TOTAL_TAP_OUT_VOLUME': 'mean'\n",
    "# }).reset_index()\n",
    "\n",
    "# aggregated_ridership.to_csv('../data/cleaned/aggregated_ridership.csv', index=False)\n",
    "\n",
    "# ridership_percentiles = aggregated_ridership.groupby(['TIME_PER_HOUR', 'DAY_TYPE']).agg({\n",
    "#     'TOTAL_TAP_IN_VOLUME': ['mean', lambda x: np.percentile(x, 25), lambda x: np.percentile(x, 75)],\n",
    "#     'TOTAL_TAP_OUT_VOLUME': ['mean', lambda x: np.percentile(x, 25), lambda x: np.percentile(x, 75)],\n",
    "# }).reset_index()\n",
    "# ridership_percentiles.columns = ['TIME_PER_HOUR', 'DAY_TYPE', 'TAP_IN_MEAN', 'TAP_IN_25', 'TAP_IN_75', 'TAP_OUT_MEAN', 'TAP_OUT_25', 'TAP_OUT_75']\n",
    "\n",
    "# ridership_percentiles.to_csv('../data/cleaned/ridership_percentiles.csv', index=False)"
   ]
  },
  {
   "cell_type": "code",
   "execution_count": 5,
   "metadata": {},
   "outputs": [],
   "source": [
    "ridership = pd.read_csv('../data/cleaned/aggregated_ridership.csv')\n",
    "ridership_percentiles = pd.read_csv('../data/cleaned/ridership_percentiles.csv')\n",
    "bus_routes_trips = pd.read_csv('../data/cleaned/bus_route_trips_single_direction.csv')"
   ]
  },
  {
   "cell_type": "code",
   "execution_count": 8,
   "metadata": {},
   "outputs": [],
   "source": [
    "def get_hour_count_below_25th_percentile_each_stop(bus_service, bus_routes_trips, ridership, ridership_percentiles):\n",
    "    \n",
    "    # filter bus_routes_trips to only include the chosen bus service\n",
    "    chosen_bus_route_trips = bus_routes_trips[bus_routes_trips['ServiceNo'] == bus_service]\n",
    "    total_num_stops = len(chosen_bus_route_trips[\"Destination_Stop\"].unique())\n",
    "\n",
    "    # merge chosen_bus_route_trips with ridership to get the estimated tap in and tap out\n",
    "    chosen_route_ridership = chosen_bus_route_trips.merge(\n",
    "        ridership,\n",
    "        on=['Destination_Stop', 'PT_TYPE', 'TIME_PER_HOUR', 'DAY_TYPE'],\n",
    "        how='left'\n",
    "    )\n",
    "\n",
    "    # calculate the estimated tap in and tap out based on estimated number of trips for the bus route\n",
    "    chosen_route_ridership['Estimated_Tap_In'] = (chosen_route_ridership['Adj_Estimated_Trips'] *\n",
    "                                                (chosen_route_ridership['TOTAL_TAP_IN_VOLUME'] / chosen_route_ridership['TOTAL_TRIPS']))\n",
    "    chosen_route_ridership['Estimated_Tap_Out'] = (chosen_route_ridership['Adj_Estimated_Trips'] *\n",
    "                                                (chosen_route_ridership['TOTAL_TAP_OUT_VOLUME'] / chosen_route_ridership['TOTAL_TRIPS']))\n",
    "\n",
    "    # merge chosen_route_ridership with overall ridership_percentiles to get the 25th percentile tap in and tap out\n",
    "    service_ridership_and_global_ridership = chosen_route_ridership.merge(\n",
    "        ridership_percentiles,\n",
    "        on=['TIME_PER_HOUR', 'DAY_TYPE']\n",
    "    )\n",
    "\n",
    "    # filter the bus stops to only include those with estimated tap in and tap out below the 25th percentile\n",
    "    filtered_busstops = service_ridership_and_global_ridership[\n",
    "        (service_ridership_and_global_ridership['Estimated_Tap_In'] < service_ridership_and_global_ridership['TAP_IN_25']) &\n",
    "        (service_ridership_and_global_ridership['Estimated_Tap_Out'] < service_ridership_and_global_ridership['TAP_OUT_25']) &\n",
    "        (service_ridership_and_global_ridership['TIME_PER_HOUR'] > 5) & (service_ridership_and_global_ridership['TIME_PER_HOUR'] < 23)\n",
    "    ]\n",
    "\n",
    "    # count the number of hours below the 25th percentile for each service stop\n",
    "    num_hours_below_25th_by_service_stop = (\n",
    "        filtered_busstops.groupby(['Destination_StopSequence', 'DAY_TYPE'])\n",
    "        .size()\n",
    "        .reset_index(name='Total_Hour_Count')\n",
    "    )\n",
    "\n",
    "    # create full index of all possible combinations of Destination_StopSequence and DAY_TYPE\n",
    "    # this is because some bus stops may not have any hours below the 25th percentile and won't be included in the previous step\n",
    "    max_sequence = filtered_busstops['Max_StopSequence'].max()\n",
    "    day_types = filtered_busstops['DAY_TYPE'].unique()\n",
    "    full_index = pd.MultiIndex.from_product(\n",
    "        [range(1, int(max_sequence) + 1), day_types], \n",
    "        names=['Destination_StopSequence', 'DAY_TYPE']\n",
    "    )\n",
    "\n",
    "    # filling missing values with 0\n",
    "    num_hours_below_25th_by_service_stop = num_hours_below_25th_by_service_stop.set_index(['Destination_StopSequence', 'DAY_TYPE']).reindex(full_index, fill_value=0).reset_index()\n",
    "    \n",
    "    return num_hours_below_25th_by_service_stop, total_num_stops"
   ]
  },
  {
   "cell_type": "markdown",
   "metadata": {},
   "source": [
    "Run the function for 1 bus route"
   ]
  },
  {
   "cell_type": "code",
   "execution_count": 9,
   "metadata": {},
   "outputs": [
    {
     "name": "stdout",
     "output_type": "stream",
     "text": [
      "Total number of stops: 48\n"
     ]
    },
    {
     "data": {
      "text/html": [
       "<div>\n",
       "<style scoped>\n",
       "    .dataframe tbody tr th:only-of-type {\n",
       "        vertical-align: middle;\n",
       "    }\n",
       "\n",
       "    .dataframe tbody tr th {\n",
       "        vertical-align: top;\n",
       "    }\n",
       "\n",
       "    .dataframe thead th {\n",
       "        text-align: right;\n",
       "    }\n",
       "</style>\n",
       "<table border=\"1\" class=\"dataframe\">\n",
       "  <thead>\n",
       "    <tr style=\"text-align: right;\">\n",
       "      <th></th>\n",
       "      <th>Destination_StopSequence</th>\n",
       "      <th>DAY_TYPE</th>\n",
       "      <th>Total_Hour_Count</th>\n",
       "    </tr>\n",
       "  </thead>\n",
       "  <tbody>\n",
       "    <tr>\n",
       "      <th>0</th>\n",
       "      <td>1</td>\n",
       "      <td>WEEKDAY</td>\n",
       "      <td>0</td>\n",
       "    </tr>\n",
       "    <tr>\n",
       "      <th>1</th>\n",
       "      <td>1</td>\n",
       "      <td>WEEKENDS/HOLIDAY</td>\n",
       "      <td>0</td>\n",
       "    </tr>\n",
       "    <tr>\n",
       "      <th>2</th>\n",
       "      <td>2</td>\n",
       "      <td>WEEKDAY</td>\n",
       "      <td>17</td>\n",
       "    </tr>\n",
       "    <tr>\n",
       "      <th>3</th>\n",
       "      <td>2</td>\n",
       "      <td>WEEKENDS/HOLIDAY</td>\n",
       "      <td>16</td>\n",
       "    </tr>\n",
       "    <tr>\n",
       "      <th>4</th>\n",
       "      <td>3</td>\n",
       "      <td>WEEKDAY</td>\n",
       "      <td>1</td>\n",
       "    </tr>\n",
       "    <tr>\n",
       "      <th>...</th>\n",
       "      <td>...</td>\n",
       "      <td>...</td>\n",
       "      <td>...</td>\n",
       "    </tr>\n",
       "    <tr>\n",
       "      <th>93</th>\n",
       "      <td>47</td>\n",
       "      <td>WEEKENDS/HOLIDAY</td>\n",
       "      <td>1</td>\n",
       "    </tr>\n",
       "    <tr>\n",
       "      <th>94</th>\n",
       "      <td>48</td>\n",
       "      <td>WEEKDAY</td>\n",
       "      <td>1</td>\n",
       "    </tr>\n",
       "    <tr>\n",
       "      <th>95</th>\n",
       "      <td>48</td>\n",
       "      <td>WEEKENDS/HOLIDAY</td>\n",
       "      <td>1</td>\n",
       "    </tr>\n",
       "    <tr>\n",
       "      <th>96</th>\n",
       "      <td>49</td>\n",
       "      <td>WEEKDAY</td>\n",
       "      <td>1</td>\n",
       "    </tr>\n",
       "    <tr>\n",
       "      <th>97</th>\n",
       "      <td>49</td>\n",
       "      <td>WEEKENDS/HOLIDAY</td>\n",
       "      <td>1</td>\n",
       "    </tr>\n",
       "  </tbody>\n",
       "</table>\n",
       "<p>98 rows × 3 columns</p>\n",
       "</div>"
      ],
      "text/plain": [
       "    Destination_StopSequence          DAY_TYPE  Total_Hour_Count\n",
       "0                          1           WEEKDAY                 0\n",
       "1                          1  WEEKENDS/HOLIDAY                 0\n",
       "2                          2           WEEKDAY                17\n",
       "3                          2  WEEKENDS/HOLIDAY                16\n",
       "4                          3           WEEKDAY                 1\n",
       "..                       ...               ...               ...\n",
       "93                        47  WEEKENDS/HOLIDAY                 1\n",
       "94                        48           WEEKDAY                 1\n",
       "95                        48  WEEKENDS/HOLIDAY                 1\n",
       "96                        49           WEEKDAY                 1\n",
       "97                        49  WEEKENDS/HOLIDAY                 1\n",
       "\n",
       "[98 rows x 3 columns]"
      ]
     },
     "execution_count": 9,
     "metadata": {},
     "output_type": "execute_result"
    }
   ],
   "source": [
    "hour_count_by_stop_sequence, total_num_stops = get_hour_count_below_25th_percentile_each_stop('963', bus_routes_trips, ridership, ridership_percentiles)\n",
    "print(f'Total number of stops: {total_num_stops}')\n",
    "hour_count_by_stop_sequence"
   ]
  },
  {
   "cell_type": "markdown",
   "metadata": {},
   "source": [
    "Below are functions defined for plotting the data produced above  \n",
    "We also want to know what proportion of bus stops have a high number of low ridership hours - second function prints it"
   ]
  },
  {
   "cell_type": "code",
   "execution_count": 10,
   "metadata": {},
   "outputs": [],
   "source": [
    "# Plotting function for both directions on the same graph\n",
    "def plot_hour_distribution(hour_counts, threshold, title):\n",
    "    weekday_data = hour_counts[hour_counts['DAY_TYPE'] == 'WEEKDAY']\n",
    "    weekend_data = hour_counts[hour_counts['DAY_TYPE'] == 'WEEKENDS/HOLIDAY']\n",
    "\n",
    "    fig, axes = plt.subplots(nrows=1, ncols=1, figsize=(12, 6), sharey=True)\n",
    "    \n",
    "    i=0\n",
    "\n",
    "    axes.scatter(weekday_data['Destination_StopSequence'], weekday_data['Total_Hour_Count'], label=f\"Weekday\", marker='o')\n",
    "    axes.scatter(weekend_data['Destination_StopSequence'], weekend_data['Total_Hour_Count'], label=f\"Weekend\", marker='o')\n",
    "\n",
    "    axes.axhline(y=threshold, color='r', linestyle='-', label='Threshold')\n",
    "    \n",
    "    # Adding labels and title\n",
    "    axes.set_xlabel(\"Bus Stop Sequence\")\n",
    "    axes.set_ylabel(\"Total Hour Count (Occurrences of 0-23)\")\n",
    "    axes.set_title(title)\n",
    "    axes.legend()\n",
    "    axes.grid(True)\n",
    "    \n",
    "    plt.tight_layout()\n",
    "    plt.show()\n",
    "\n",
    "def print_percentage_exceeding_threshold(hour_counts, total_num_stops, threshold):\n",
    "    # Calculate total sequences and sequences exceeding threshold for each direction\n",
    "    weekday_data = hour_counts[hour_counts['DAY_TYPE'] == 'WEEKDAY']\n",
    "    num_hours_low_ridership_weekday = weekday_data.shape[0]\n",
    "    exceeding_sequences_weekday = weekday_data[weekday_data['Total_Hour_Count'] > threshold].shape[0]\n",
    "    percentage_exceed_weekday = (exceeding_sequences_weekday / total_num_stops) * 100 if num_hours_low_ridership_weekday else 0\n",
    "    print(f\"Percentage of stop sequences exceeding {threshold} (weekday): {percentage_exceed_weekday:.2f}%\")\n",
    "    \n",
    "    \n",
    "    weekend_data = hour_counts[hour_counts['DAY_TYPE'] == 'WEEKENDS/HOLIDAY']\n",
    "    num_hours_low_ridership_weekend = weekend_data.shape[0]\n",
    "    exceeding_sequences_weekend = weekend_data[weekend_data['Total_Hour_Count'] > threshold].shape[0]\n",
    "    percentage_exceed_weekend = (exceeding_sequences_weekend / total_num_stops) * 100 if num_hours_low_ridership_weekend else 0\n",
    "    print(f\"Percentage of stop sequences exceeding {threshold} (weekend): {percentage_exceed_weekend:.2f}%\")\n"
   ]
  },
  {
   "cell_type": "code",
   "execution_count": 11,
   "metadata": {},
   "outputs": [
    {
     "data": {
      "image/png": "[encoded data removed]",
      "text/plain": [
       "<Figure size 1200x600 with 1 Axes>"
      ]
     },
     "metadata": {},
     "output_type": "display_data"
    },
    {
     "name": "stdout",
     "output_type": "stream",
     "text": [
      "Percentage of stop sequences exceeding 10 (weekday): 14.58%\n",
      "Percentage of stop sequences exceeding 10 (weekend): 4.17%\n"
     ]
    }
   ],
   "source": [
    "threshold = 10\n",
    "\n",
    "plot_hour_distribution(hour_count_by_stop_sequence, \n",
    "                       10, \n",
    "                       \"Number of hours of low ridership for each bus stop sequence (threshold = 10 hours)\")\n",
    "print_percentage_exceeding_threshold(hour_count_by_stop_sequence, total_num_stops, threshold)\n"
   ]
  }
 ],
 "metadata": {
  "kernelspec": {
   "display_name": "4264-proj",
   "language": "python",
   "name": "python3"
  },
  "language_info": {
   "codemirror_mode": {
    "name": "ipython",
    "version": 3
   },
   "file_extension": ".py",
   "mimetype": "text/x-python",
   "name": "python",
   "nbconvert_exporter": "python",
   "pygments_lexer": "ipython3",
   "version": "3.11.10"
  }
 },
 "nbformat": 4,
 "nbformat_minor": 2
}
