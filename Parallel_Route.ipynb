{
 "cells": [
  {
   "attachments": {},
   "cell_type": "markdown",
   "metadata": {},
   "source": [
    "# Install Packages"
   ]
  },
  {
   "cell_type": "code",
   "execution_count": 52,
   "metadata": {},
   "outputs": [],
   "source": [
    "import pandas as pd\n",
    "import numpy as np\n",
    "import geopandas as gpd\n",
    "from shapely.geometry import Point, LineString\n",
    "import matplotlib.pyplot as plt\n",
    "import json\n",
    "from shapely.validation import make_valid\n",
    "import warnings"
   ]
  },
  {
   "attachments": {},
   "cell_type": "markdown",
   "metadata": {},
   "source": [
    "# Read Files"
   ]
  },
  {
   "cell_type": "code",
   "execution_count": null,
   "metadata": {},
   "outputs": [],
   "source": [
    "data = pd.read_json(\"data/cleaned/BusRoutes.json\", encoding=\"utf-8\", lines=True, chunksize=1000)\n",
    "\n",
    "# Combine chunks into a dataframe\n",
    "df_list = []\n",
    "for chunk in data:\n",
    "    df_list.append(chunk)\n",
    "\n",
    "# Concatenate all chunks into a single dataframe\n",
    "bus_routes = pd.concat(df_list, ignore_index=True)\n",
    "bus_routes = bus_routes[bus_routes['Direction']==1]\n",
    "bus_routes = bus_routes[['ServiceNo', 'BusStopCode', 'StopSequence', 'Distance']]\n",
    "print(bus_routes.head())"
   ]
  },
  {
   "cell_type": "code",
   "execution_count": null,
   "metadata": {},
   "outputs": [],
   "source": [
    "# Load BusStops.geojson using GeoPandas\n",
    "bus_stops = gpd.read_file('data/cleaned/BusStops.geojson').to_crs(32648)\n",
    "print(bus_stops.head())"
   ]
  },
  {
   "cell_type": "code",
   "execution_count": null,
   "metadata": {},
   "outputs": [],
   "source": [
    "rail_line = gpd.read_file('data/cleaned/RailLines.geojson').to_crs(32648)\n",
    "print(rail_line.head())"
   ]
  },
  {
   "cell_type": "code",
   "execution_count": null,
   "metadata": {},
   "outputs": [],
   "source": [
    "rail_stn = gpd.read_file('data/cleaned/RailStationsMerged.geojson').to_crs(32648)\n",
    "print(rail_stn.head())"
   ]
  },
  {
   "attachments": {},
   "cell_type": "markdown",
   "metadata": {},
   "source": [
    "# Data Cleaning : Obtain  Bus Line Strings"
   ]
  },
  {
   "cell_type": "code",
   "execution_count": null,
   "metadata": {},
   "outputs": [],
   "source": [
    "## Merge Bus Stop Coordinates with Bus Routes\n",
    "# Ensure that BusStopCode is of the same type for both DataFrames (string)\n",
    "bus_stops['BusStopCode'] = bus_stops['BUS_STOP_N'].astype(str)\n",
    "bus_routes['BusStopCode'] = bus_routes['BusStopCode'].astype(str)\n",
    "\n",
    "# Merge bus_routes with bus_stops to get geometry for each bus stop\n",
    "merged_bus_data = bus_routes.merge(bus_stops[['BusStopCode', 'geometry']], on='BusStopCode', how='left')\n",
    "\n",
    "# Drop rows without geometry\n",
    "merged_bus_data = merged_bus_data.dropna(subset=['geometry'])\n",
    "\n",
    "# Convert to GeoDataFrame\n",
    "bus_routes_geo = gpd.GeoDataFrame(merged_bus_data, geometry='geometry')\n",
    "# bus_routes_geo.to_crs(3857)\n",
    "bus_routes_geo.set_crs(epsg=32648, inplace=True,allow_override=True)\n",
    "bus_routes_geo.head()"
   ]
  },
  {
   "attachments": {},
   "cell_type": "markdown",
   "metadata": {},
   "source": [
    "# Segment Bus Routes by LineString\n"
   ]
  },
  {
   "cell_type": "code",
   "execution_count": null,
   "metadata": {},
   "outputs": [],
   "source": [
    "bus_routes_lines = (\n",
    "    bus_routes_geo.groupby(['ServiceNo'])\n",
    "    .apply(lambda x: LineString(x.sort_values('StopSequence')['geometry'].tolist()))\n",
    "    .reset_index()\n",
    "    .rename(columns={0: 'geometry'})\n",
    ")\n",
    "# Convert to GeoDataFrame\n",
    "bus_routes_lines = gpd.GeoDataFrame(bus_routes_lines, geometry='geometry')\n",
    "bus_routes_lines = bus_routes_lines.set_crs(epsg=32648)\n",
    "print(bus_routes_lines.head())\n",
    "\n",
    "bs10 = bus_routes_lines[bus_routes_lines['ServiceNo']=='10']\n",
    "\n",
    "bs10.plot()\n",
    "plt.show()"
   ]
  },
  {
   "attachments": {},
   "cell_type": "markdown",
   "metadata": {},
   "source": [
    "# Visualise Bus Segments"
   ]
  },
  {
   "cell_type": "code",
   "execution_count": null,
   "metadata": {},
   "outputs": [],
   "source": [
    "def segment_line_by_distance(line, distance=1000):\n",
    "    segments = []  # List to store the line segments\n",
    "    current_distance = 0  # Start distance\n",
    "\n",
    "    # Iterate over the entire length of the line and create segments of the specified distance\n",
    "    while current_distance < line.length:\n",
    "        # Calculate the start and end points for each segment\n",
    "        start_point = line.interpolate(current_distance)\n",
    "        end_point = line.interpolate(min(current_distance + distance, line.length))\n",
    "        \n",
    "        # Create a LineString for the segment and add it to the list\n",
    "        segments.append(LineString([start_point, end_point]))\n",
    "        \n",
    "        # Move to the next segment\n",
    "        current_distance += distance\n",
    "\n",
    "    return segments  # Return the list of 1 km line segments\n",
    "\n",
    "# Segment the line by 1 km distance\n",
    "bs10_segmented = segment_line_by_distance(bs10.geometry.iloc[0], 1000)\n",
    "print(bs10_segmented)\n",
    "# plot orignal bus line\n",
    "x, y = bs10.geometry.iloc[0].xy  # Extract x and y coordinates for the original line\n",
    "plt.plot(x, y, color='gray', linewidth=3, label='Original Bus Line')\n",
    "\n",
    "# plot segmented bus line\n",
    "for segment in bs10_segmented:\n",
    "    x_seg, y_seg = segment.xy  # Extract x and y coordinates for the segment\n",
    "    plt.plot(x_seg, y_seg, linewidth=2, linestyle='--')\n",
    "\n",
    "# Show the plot\n",
    "plt.grid(True)\n",
    "plt.show()"
   ]
  },
  {
   "attachments": {},
   "cell_type": "markdown",
   "metadata": {},
   "source": [
    "# Create MRT Line String with MRT Stations"
   ]
  },
  {
   "cell_type": "code",
   "execution_count": null,
   "metadata": {},
   "outputs": [],
   "source": [
    "rail_stn = rail_stn.to_crs(epsg=32648)\n",
    "\n",
    "#  Group the stations by MRT line\n",
    "rail_stn.drop(rail_stn[rail_stn['StationCode']=='PTC'].index, inplace=True)\n",
    "rail_stn.drop(rail_stn[rail_stn['StationCode']=='STC'].index, inplace=True)\n",
    "rail_stn.replace(\"TE22A\", \"TE22.5\", inplace=True)\n",
    "station_groups = rail_stn.groupby('StationLine')\n",
    "\n",
    "# Dictionary to store LineStrings for each MRT line\n",
    "line_strings_per_station_line = {}\n",
    "\n",
    "# Iterate over each MRT line group and create a sorted LineString\n",
    "for line_name, group in station_groups:\n",
    "    # Sort the stations by their longitude (x-coordinate) or latitude (y-coordinate)\n",
    "    group['centroid_x'] = group.geometry.centroid.x  # Get x-coordinate of the centroid\n",
    "    group['StationCodeNo'] = group['StationCode'].str[2:].astype(float)\n",
    "    sorted_group = group.sort_values('StationCodeNo')  # Sort by the x-coordinate\n",
    "\n",
    "    # Extract the station centroids, names, and codes\n",
    "    station_points = sorted_group.geometry.centroid.tolist()\n",
    "    station_names = sorted_group['StationName'].tolist()\n",
    "    station_codes = sorted_group['StationCode'].tolist()\n",
    "\n",
    "    # Initialize a set to track unique station codes\n",
    "    unique_station_codes = set()\n",
    "\n",
    "    # Initialize lists to store filtered stations (with unique codes)\n",
    "    filtered_station_points = []\n",
    "    filtered_station_names = []\n",
    "    filtered_station_codes = []\n",
    "\n",
    "    #Filter out stations with duplicate station codes and None values\n",
    "    for point, name, code in zip(station_points, station_names, station_codes):\n",
    "        if code not in unique_station_codes and point is not None:\n",
    "            # Add the station to the filtered lists\n",
    "            filtered_station_points.append(point)\n",
    "            filtered_station_names.append(name)\n",
    "            filtered_station_codes.append(code)\n",
    "\n",
    "            # Mark this station code as seen\n",
    "            unique_station_codes.add(code)\n",
    "\n",
    "    # create a LineString from the filtered station points\n",
    "    if filtered_station_points:  # Check if we have valid points\n",
    "        try:\n",
    "            mrt_line = LineString(filtered_station_points)\n",
    "        \n",
    "            # Store the data in the dictionary\n",
    "            line_strings_per_station_line[line_name] = {\n",
    "                'LineString': mrt_line,\n",
    "                'StationNames': filtered_station_names,\n",
    "                'StationCodes': filtered_station_codes,\n",
    "                'StationPoints': filtered_station_points\n",
    "            }\n",
    "        except TypeError as e:\n",
    "            print(f\"Error creating LineString for {line_name}: {e}\")\n",
    "            continue\n",
    "\n",
    "print(line_strings_per_station_line)\n",
    "for line_name, line_data in line_strings_per_station_line.items():\n",
    "    print(f\"MRT Line: {line_name}\")\n",
    "    print(f\"  LineString: {line_data['LineString']}\")\n",
    "    print(f\"  Station Names: {line_data['StationNames']}\")\n",
    "    print(f\"  Station Codes: {line_data['StationCodes']}\")\n",
    "    print(f\"  Station Points (centroids): {line_data['StationPoints']}\")\n",
    "    print(\"\\n\")"
   ]
  },
  {
   "attachments": {},
   "cell_type": "markdown",
   "metadata": {},
   "source": [
    "# Visualise MRT Line String"
   ]
  },
  {
   "cell_type": "code",
   "execution_count": null,
   "metadata": {},
   "outputs": [],
   "source": [
    "\n",
    "target_line = \"Circle\" #change accordingly\n",
    "\n",
    "# Check if the line exists in the processed data\n",
    "if target_line in line_strings_per_station_line:\n",
    "    line_data = line_strings_per_station_line[target_line]\n",
    "\n",
    "    # Extract the LineString, station points, and station names\n",
    "    mrt_line = line_data['LineString']\n",
    "    station_points = line_data['StationPoints']\n",
    "    station_names = line_data['StationNames']\n",
    "\n",
    "    # Plot the MRT line\n",
    "    plt.figure(figsize=(10, 8))\n",
    "    \n",
    "    # Plot the LineString representing the MRT line\n",
    "    x, y = mrt_line.xy  # Extract x and y coordinates from the LineString\n",
    "    plt.plot(x, y, label=f'{target_line} Line', color='blue', linewidth=2)\n",
    "    \n",
    "    # Plot the station points on the map\n",
    "    station_x = [point.x for point in station_points]\n",
    "    station_y = [point.y for point in station_points]\n",
    "    plt.scatter(station_x, station_y, color='red', label='Stations', zorder=5)\n",
    "\n",
    "    # Annotate the station names\n",
    "    for i, name in enumerate(station_names):\n",
    "        plt.text(station_x[i], station_y[i], name, fontsize=8, ha='right')\n",
    "\n",
    "    # Set the title and labels\n",
    "    plt.title(f'{target_line} MRT Line with Stations')\n",
    "    plt.xlabel('Longitude (meters)')\n",
    "    plt.ylabel('Latitude (meters)')\n",
    "    \n",
    "    # Add a legend\n",
    "    plt.legend()\n",
    "    \n",
    "    # Show the plot\n",
    "    plt.grid(True)\n",
    "    plt.show()\n",
    "\n",
    "else:\n",
    "    print(f\"No data available for MRT Line: {target_line}\")\n"
   ]
  },
  {
   "attachments": {},
   "cell_type": "markdown",
   "metadata": {},
   "source": [
    "# Segment MRT Stations"
   ]
  },
  {
   "cell_type": "code",
   "execution_count": 34,
   "metadata": {},
   "outputs": [],
   "source": [
    "# Function to segment a LineString into 1 km sections\n",
    "def segment_line_by_distance(line, distance=1000):\n",
    "    segments = []  # List to store the line segments\n",
    "    current_distance = 0  # Start distance\n",
    "\n",
    "    # Iterate over the entire length of the line and create segments of the specified distance\n",
    "    while current_distance < line.length:\n",
    "        # Calculate the start and end points for each segment\n",
    "        start_point = line.interpolate(current_distance)\n",
    "        end_point = line.interpolate(min(current_distance + distance, line.length))\n",
    "        \n",
    "        # Create a LineString for the segment and add it to the list\n",
    "        segments.append(LineString([start_point, end_point]))\n",
    "        \n",
    "        # Move to the next segment\n",
    "        current_distance += distance\n",
    "\n",
    "    return segments  # Return the list of 1 km line segments\n",
    "\n",
    "# Dictionary to store segmented lines for each MRT line\n",
    "segmented_lines_per_station_line = {}\n",
    "\n",
    "# Iterate through each MRT line in the dataset\n",
    "for line_name, line_info in line_strings_per_station_line.items():\n",
    "    # Get the LineString and station details for each line\n",
    "    mrt_line = line_info['LineString']\n",
    "    station_points = line_info['StationPoints']\n",
    "    station_names = line_info['StationNames']\n",
    "\n",
    "    # Segment the MRT line into 1 km sections\n",
    "    mrt_segments = segment_line_by_distance(mrt_line, 1000)\n",
    "\n",
    "    # Store the segments for this MRT line\n",
    "    segmented_lines_per_station_line[line_name] = {\n",
    "        'segments': mrt_segments,\n",
    "        'station_names': station_names,\n",
    "        'station_points': station_points\n",
    "    }\n"
   ]
  },
  {
   "attachments": {},
   "cell_type": "markdown",
   "metadata": {},
   "source": [
    "# Visualise MRT Segments"
   ]
  },
  {
   "cell_type": "code",
   "execution_count": null,
   "metadata": {},
   "outputs": [],
   "source": [
    "target_line = \"Circle\"  # change to visualize other lines\n",
    "if target_line in segmented_lines_per_station_line:\n",
    "    segmented_data = segmented_lines_per_station_line[target_line]\n",
    "\n",
    "    mrt_segments = segmented_data['segments']\n",
    "    station_points = segmented_data['station_points']\n",
    "    station_names = segmented_data['station_names']\n",
    "\n",
    "    # Visualize the segments on the map\n",
    "    plt.figure(figsize=(10, 8))\n",
    "\n",
    "    # Plot each segment in a different color\n",
    "    for idx, segment in enumerate(mrt_segments):\n",
    "        x_seg, y_seg = segment.xy  # Extract x and y coordinates for the segment\n",
    "        plt.plot(x_seg, y_seg, label=f'Segment {idx+1}', linewidth=2)\n",
    "\n",
    "    # Plot the station points\n",
    "    station_x = [point.x for point in station_points]\n",
    "    station_y = [point.y for point in station_points]\n",
    "    plt.scatter(station_x, station_y, color='red', label='Stations', zorder=5)\n",
    "\n",
    "    # Annotate the station names\n",
    "    for i, name in enumerate(station_names):\n",
    "        plt.text(station_x[i], station_y[i], name, fontsize=8, ha='right')\n",
    "\n",
    "    # Set the title and labels\n",
    "    plt.title(f'{target_line} MRT Line Segmented into 1 km Sections')\n",
    "    plt.xlabel('Longitude (meters)')\n",
    "    plt.ylabel('Latitude (meters)')\n",
    "\n",
    "    # Add a legend\n",
    "    plt.legend()\n",
    "    \n",
    "    # Show the plot\n",
    "    plt.grid(True)\n",
    "    plt.show()\n",
    "\n",
    "    # Print the first few segments for verification\n",
    "    for idx, segment in enumerate(mrt_segments[:5]):  # Print first 5 segments\n",
    "        print(f\"Segment {idx+1}: {segment}\")\n",
    "\n",
    "else:\n",
    "    print(f\"No data available for MRT Line: {target_line}\")"
   ]
  },
  {
   "attachments": {},
   "cell_type": "markdown",
   "metadata": {},
   "source": [
    "# PHASE 1: Conduct Initial Checks for Distance Proximity\n",
    "Compare the bus route's entire geometry with the MRT line to check if they are near in distance. If there's no overlap, discard that bus route.\n",
    "Reduces the number of comparisons needed."
   ]
  },
  {
   "cell_type": "code",
   "execution_count": 36,
   "metadata": {},
   "outputs": [],
   "source": [
    "# Define buffer distance\n",
    "buffer_distance = 500"
   ]
  },
  {
   "cell_type": "code",
   "execution_count": null,
   "metadata": {},
   "outputs": [],
   "source": [
    "if bus_routes_lines.crs is None:\n",
    "    bus_routes_lines = bus_routes_lines.set_crs(epsg=4326)\n",
    "\n",
    "#Reproject bus routes to the same CRS as the MRT lines (UTM Zone 48N - EPSG:32648)\n",
    "bus_routes_lines = bus_routes_lines.to_crs(epsg=32648)\n",
    "\n",
    "mrt_buffers = {}  # Dictionary to store buffers for each MRT line\n",
    "\n",
    "for line_name, line_data in line_strings_per_station_line.items():\n",
    "    mrt_line = line_data['LineString']\n",
    "    mrt_buffer = mrt_line.buffer(buffer_distance)  # Create a buffer around the MRT line\n",
    "    mrt_buffers[line_name] = mrt_buffer  # Store the buffer\n",
    "\n",
    "#Check if any bus route is near any MRT line buffer\n",
    "overlap_results = []\n",
    "\n",
    "for line_name, mrt_buffer in mrt_buffers.items():\n",
    "    for idx, bus_route in bus_routes_lines.iterrows():\n",
    "        if bus_route.geometry.intersects(mrt_buffer):\n",
    "            overlap_length = bus_route.geometry.intersection(mrt_buffer).length  # Get overlap length\n",
    "            overlap_results.append({\n",
    "                'MRT_Line': line_name,\n",
    "                'Bus_ServiceNo': bus_route['ServiceNo'],\n",
    "                'Direction': bus_route['Direction'],  # Keep track of direction for later\n",
    "                'Bus_Route_Length_m': bus_route.geometry.length,  # Length of the bus route in meters\n",
    "                'Overlap_Length_m': overlap_length  # Overlap length in meters\n",
    "            })\n",
    "\n",
    "overlap_df = pd.DataFrame(overlap_results)\n",
    "\n",
    "#Sort the DataFrame by 'Overlap_Length_m' in descending order\n",
    "overlap_df_sorted = overlap_df.sort_values(by='Overlap_Length_m', ascending=False)\n",
    "\n",
    "# For each bus service, keep only the direction with the greater overlap\n",
    "# Group by 'Bus_ServiceNo' and 'Direction', take the max 'Overlap_Length_m' for each service\n",
    "overlap_df_max = overlap_df_sorted.groupby(['Bus_ServiceNo', 'Direction']).apply(lambda x: x.loc[x['Overlap_Length_m'].idxmax()]).reset_index(drop=True)\n",
    "\n",
    "# Drop duplicates for each 'Bus_ServiceNo' while keeping only the row with the maximum 'Overlap_Length_m'\n",
    "overlap_df_unique = overlap_df_max.sort_values(by='Overlap_Length_m', ascending=False).drop_duplicates(subset=['Bus_ServiceNo'], keep='first')\n",
    "\n",
    "# Output the final DataFrame\n",
    "overlap_df_unique\n",
    "\n"
   ]
  },
  {
   "attachments": {},
   "cell_type": "markdown",
   "metadata": {},
   "source": [
    "# PHASE 2.1: Segment Coverage Calculation for Bus Routes and MRT Line Segments\n",
    "To determine how much of an MRT line's segments are covered by a bus route. The MRT lines are segmented into equal parts, and we check which of these segments overlap with the corresponding bus route. This analysis helps us assess how parallel the bus route is to the MRT line in terms of spatial coverage.\n",
    "\n",
    "Steps:\n",
    "\n",
    "Segmentation: Each MRT line is divided into segments of a fixed length. These segments represent portions of the MRT line.\n",
    "\n",
    "Intersection Check: For each bus route, we check how many of the MRT segments it intersects. This is done by comparing the geometry of the bus route with each MRT segment.\n",
    "\n",
    "Coverage Calculation: We calculate the percentage of MRT segments that are covered by the bus route:"
   ]
  },
  {
   "cell_type": "code",
   "execution_count": null,
   "metadata": {},
   "outputs": [],
   "source": [
    "# Initialize a list to store the results\n",
    "segment_coverage_results = []\n",
    "\n",
    "# Iterate through each row in overlap_df_unique\n",
    "for idx, row in overlap_df_unique.iterrows():\n",
    "    # Fetch the geometry of the bus route (LineString) based on ServiceNo and Direction\n",
    "    bus_geometry = bus_routes_lines.loc[\n",
    "        (bus_routes_lines['ServiceNo'] == row['Bus_ServiceNo']) &\n",
    "        (bus_routes_lines['Direction'] == row['Direction'])\n",
    "    ].geometry.iloc[0]\n",
    "    \n",
    "    # Fetch the MRT Line geometry\n",
    "    mrt_line = line_strings_per_station_line[row['MRT_Line']]['LineString']\n",
    "    \n",
    "    # Segment the MRT line \n",
    "    mrt_segments = segment_line_by_distance(mrt_line, 1000)  # EDIT\n",
    "\n",
    "    # Calculate how many segments are covered by the bus route\n",
    "    total_segments = len(mrt_segments)\n",
    "    covered_segments = 0\n",
    "\n",
    "    for segment in mrt_segments:\n",
    "        if bus_geometry.intersects(segment):  # Check if the bus route intersects the MRT segment\n",
    "            covered_segments += 1\n",
    "\n",
    "    # Calculate the percentage of MRT segments covered by the bus route\n",
    "    coverage_percentage = (covered_segments / total_segments) * 100 if total_segments > 0 else 0\n",
    "    \n",
    "    # Append the result to the list\n",
    "    segment_coverage_results.append({\n",
    "        'MRT_Line': row['MRT_Line'],\n",
    "        'Bus_ServiceNo': row['Bus_ServiceNo'],\n",
    "        'Direction': row['Direction'],\n",
    "        'Bus_Route_Length_m': row['Bus_Route_Length_m'],\n",
    "        'Overlap_Length_m': row['Overlap_Length_m'],\n",
    "        'Coverage_Percentage': coverage_percentage\n",
    "    })\n",
    "\n",
    "# Convert the results to a DataFrame\n",
    "segment_coverage_df = pd.DataFrame(segment_coverage_results)\n",
    "\n",
    "# Filter the DataFrame to only include rows with a Coverage_Percentage > 0\n",
    "segment_coverage_df_filtered = segment_coverage_df[segment_coverage_df['Coverage_Percentage'] > 0]\n",
    "\n",
    "# Sort by coverage percentage in descending order\n",
    "segment_coverage_df_sorted = segment_coverage_df_filtered.sort_values(by='Coverage_Percentage', ascending=False)\n",
    "\n",
    "# Output the final DataFrame\n",
    "segment_coverage_df_sorted"
   ]
  },
  {
   "attachments": {},
   "cell_type": "markdown",
   "metadata": {},
   "source": [
    "# Phase 2.2 Bus Segments with MRT Line String\n",
    "\n",
    "The method below segments the bus routes and checks how many consecutive bus segments overlap with the MRT LineString. It also tracks percentage of bus segments that are intersecting with the MRT Linestring in a similar concept to the code above.\n",
    "This method is in consideration of routes that are not always intersecting with the MRT (like the example given in consult) and hence should not be counted as parallel."
   ]
  },
  {
   "cell_type": "code",
   "execution_count": null,
   "metadata": {},
   "outputs": [],
   "source": [
    "# add code after fixing bus segments"
   ]
  },
  {
   "cell_type": "code",
   "execution_count": null,
   "metadata": {},
   "outputs": [],
   "source": [
    "# Merge the new bus segments intersection results with the existing coverage DataFrame\n",
    "phase2_df = pd.merge(\n",
    "    segment_coverage_df_sorted,  # DataFrame from phase 2.1\n",
    "    bus_segments_df_sorted,  # DataFrame from phase 2.2 (bus segments)\n",
    "    on=['MRT_Line', 'Bus_ServiceNo'],  # Merge on common columns\n",
    "    how='left'  # Keep all rows from phase 2.1 and match with 2.2 results\n",
    ")\n",
    "\n",
    "# Output the merged DataFrame\n",
    "print(phase2_df.head(10))\n"
   ]
  },
  {
   "attachments": {},
   "cell_type": "markdown",
   "metadata": {},
   "source": [
    "# Phase 3: Weighted Average Angle of Deviation"
   ]
  },
  {
   "attachments": {},
   "cell_type": "markdown",
   "metadata": {},
   "source": [
    "This phase aims to assess how parallel bus routes are to MRT segments by calculating the weighted average angle of deviation. The angle is computed between vectors representing each MRT segment and the nearest point on the bus route. Smaller angles indicate closer alignment, suggesting the bus route runs more parallel to the MRT line. The weighted average considers segment lengths, providing a comprehensive measure of overall parallelism. This metric helps to identify potential overlaps and redundancies between bus and MRT services."
   ]
  },
  {
   "cell_type": "code",
   "execution_count": 72,
   "metadata": {},
   "outputs": [],
   "source": [
    "# Function to calculate angle between two vectors\n",
    "def calculate_angle(vector1, vector2):\n",
    "    # Normalize the vectors to avoid issues with length differences\n",
    "    vector1 = vector1 / np.linalg.norm(vector1)\n",
    "    vector2 = vector2 / np.linalg.norm(vector2)\n",
    "\n",
    "    # Calculate the angle in radians and convert to degrees\n",
    "    cos_angle = np.dot(vector1, vector2)\n",
    "    # To prevent possible floating-point inaccuracies that can result in a domain error\n",
    "    cos_angle = np.clip(cos_angle, -1.0, 1.0)\n",
    "    angle = np.degrees(np.arccos(cos_angle))\n",
    "    return angle"
   ]
  },
  {
   "cell_type": "code",
   "execution_count": null,
   "metadata": {},
   "outputs": [],
   "source": [
    "# Suppress the specific warning\n",
    "warnings.filterwarnings(\"ignore\", message=\"invalid value encountered in line_locate_point\")\n",
    "\n",
    "# Initialize a list to store the results\n",
    "segment_coverage_results = []\n",
    "\n",
    "# Iterate through each row in overlap_df_unique\n",
    "for idx, row in overlap_df_unique.iterrows():\n",
    "    # Fetch the geometry of the bus route (LineString) based on ServiceNo and Direction\n",
    "    bus_geometry = bus_routes_lines.loc[\n",
    "        (bus_routes_lines['ServiceNo'] == row['Bus_ServiceNo']) &\n",
    "        (bus_routes_lines['Direction'] == row['Direction'])\n",
    "    ].geometry.iloc[0]\n",
    "    \n",
    "    # Ensure bus geometry is valid\n",
    "    if not bus_geometry.is_valid:\n",
    "        bus_geometry = make_valid(bus_geometry)\n",
    "\n",
    "    # Fetch the MRT Line geometry and segment it\n",
    "    mrt_line = line_strings_per_station_line[row['MRT_Line']]['LineString']\n",
    "    if not mrt_line.is_valid:\n",
    "        mrt_line = make_valid(mrt_line)\n",
    "    \n",
    "    mrt_segments = segment_line_by_distance(mrt_line, 1000)\n",
    "\n",
    "    # Initialize variables to calculate the weighted average angle\n",
    "    weighted_sum_angle = 0\n",
    "    total_weight = 0\n",
    "\n",
    "    # Calculate the angle for each MRT segment and find the closest point on the bus route\n",
    "    for segment in mrt_segments:\n",
    "        if not segment.is_valid:\n",
    "            segment = make_valid(segment)\n",
    "        \n",
    "        midpoint = segment.interpolate(0.5, normalized=True)  # Calculate the midpoint of the MRT segment\n",
    "        try:\n",
    "            closest_point = bus_geometry.interpolate(bus_geometry.project(midpoint))\n",
    "        except:\n",
    "            continue  # Skip this segment if there's an error in projecting\n",
    "        \n",
    "        # Create vectors from segment start to end and from midpoint to closest point\n",
    "        mrt_vector = [segment.coords[-1][0] - segment.coords[0][0], segment.coords[-1][1] - segment.coords[0][1]]\n",
    "        bus_vector = [closest_point.x - midpoint.x, closest_point.y - midpoint.y]\n",
    "\n",
    "        # Normalize the vectors\n",
    "        mrt_vector = np.array(mrt_vector) / np.linalg.norm(mrt_vector)\n",
    "        bus_vector = np.array(bus_vector) / np.linalg.norm(bus_vector)\n",
    "\n",
    "        # Calculate angle using dot product (ignoring direction)\n",
    "        dot_product = np.dot(mrt_vector, bus_vector)\n",
    "        dot_product = np.clip(dot_product, -1.0, 1.0)  # To avoid numerical errors outside the valid range\n",
    "        angle = np.degrees(np.arccos(abs(dot_product)))  # Use absolute value to ignore direction\n",
    "\n",
    "        # Update weighted sum and total weight using segment length \n",
    "        segment_length = segment.length\n",
    "        weighted_sum_angle += angle * segment_length\n",
    "        total_weight += segment_length\n",
    "\n",
    "    # Calculate the weighted average angle\n",
    "    weighted_average_angle = (weighted_sum_angle / total_weight) if total_weight > 0 else 0  \n",
    "    \n",
    "    segment_coverage_results.append({\n",
    "        'MRT_Line': row['MRT_Line'],\n",
    "        'Bus_ServiceNo': row['Bus_ServiceNo'],\n",
    "        'Direction': row['Direction'],\n",
    "        'Weighted_Average_Angle': round(weighted_average_angle, 1)\n",
    "    })\n",
    "\n",
    "# Convert to DataFrame and merge with existing data\n",
    "angles_df = pd.DataFrame(segment_coverage_results)\n",
    "angles_df_merged = pd.merge(segment_coverage_df_sorted, angles_df, on=['MRT_Line', 'Bus_ServiceNo', 'Direction'], how='left')\n",
    "\n",
    "angles_df_merged\n"
   ]
  },
  {
   "cell_type": "code",
   "execution_count": null,
   "metadata": {},
   "outputs": [],
   "source": [
    "# Code to join weighted average angle onto phase 2 final df >> phase 3 df "
   ]
  },
  {
   "attachments": {},
   "cell_type": "markdown",
   "metadata": {},
   "source": [
    "# Final Scoring System for Identifying Parallel Routes\n",
    "In this section, we consolidate all the analyses conducted in previous phases to form a comprehensive scoring system. The final DataFrame (phase3_df) includes critical metrics such as coverage percentage, segment intersections, consecutive coverage, and weighted average angle to determine how well each bus route aligns with the MRT lines.\n",
    "\n",
    "These metrics are used to systematically evaluate and score parallel routes, allowing us to narrow down on the routes for further evaluation, planning, and studying ridership patterns. The resulting scoring system provides an objective measure for route similarity, facilitating better optimization of public transit services."
   ]
  },
  {
   "cell_type": "code",
   "execution_count": null,
   "metadata": {},
   "outputs": [],
   "source": [
    "# final scores + rank them\n"
   ]
  }
 ],
 "metadata": {
  "kernelspec": {
   "display_name": "Python 3",
   "language": "python",
   "name": "python3"
  },
  "language_info": {
   "codemirror_mode": {
    "name": "ipython",
    "version": 3
   },
   "file_extension": ".py",
   "mimetype": "text/x-python",
   "name": "python",
   "nbconvert_exporter": "python",
   "pygments_lexer": "ipython3",
   "version": "3.7.9"
  },
  "orig_nbformat": 4,
  "vscode": {
   "interpreter": {
    "hash": "aee8b7b246df8f9039afb4144a1f6fd8d2ca17a180786b69acc140d282b71a49"
   }
  }
 },
 "nbformat": 4,
 "nbformat_minor": 2
}
